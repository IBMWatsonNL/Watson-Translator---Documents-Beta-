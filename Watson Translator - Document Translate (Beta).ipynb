{
 "cells": [
  {
   "cell_type": "markdown",
   "metadata": {},
   "source": [
    "## Getting started with Language Translator\n",
    "\n",
    "IBM Watson™ Language Translator allows you to translate text programmatically from one language into another language.\n",
    "\n",
    "Setup Instance in the IBM Cloud https://cloud.ibm.com/docs/language-translator?topic=language-translator-gettingstarted\n",
    "\n",
    "***Watson Language Translator - Advanced Plan required for customizations in this notebook***\n"
   ]
  },
  {
   "cell_type": "markdown",
   "metadata": {},
   "source": [
    "## Introduction"
   ]
  },
  {
   "cell_type": "markdown",
   "metadata": {},
   "source": [
    "This Jupyter Notebook helps to translate files from one language to another while preserving the original format. More than 12 different file formats can be translated, including MS Office, Open Office, and PDF.\n",
    "\n",
    "Documentation https://cloud.ibm.com/docs/language-translator?topic=language-translator-document-translator-tutorial\n"
   ]
  },
  {
   "cell_type": "markdown",
   "metadata": {},
   "source": [
    "## 1.Setup"
   ]
  },
  {
   "cell_type": "markdown",
   "metadata": {},
   "source": [
    "To prepare your environment, you need to install some packages and enter credentials for the Watson services."
   ]
  },
  {
   "cell_type": "code",
   "execution_count": null,
   "metadata": {},
   "outputs": [],
   "source": [
    "import json\n",
    "from ibm_watson import LanguageTranslatorV3\n",
    "from ibm_cloud_sdk_core.authenticators import IAMAuthenticator\n",
    "\n",
    "authenticator = IAMAuthenticator('ADD API KEY')\n",
    "language_translator = LanguageTranslatorV3(\n",
    "    version='2018-05-01',\n",
    "    authenticator=authenticator\n",
    ")\n",
    "language_translator.set_service_url('ADD URL')"
   ]
  },
  {
   "cell_type": "markdown",
   "metadata": {},
   "source": [
    "## 2.List the documents customized\n",
    "Lists documents that have been submitted for translation."
   ]
  },
  {
   "cell_type": "code",
   "execution_count": null,
   "metadata": {},
   "outputs": [],
   "source": [
    "result = language_translator.list_documents().get_result()\n",
    "print(json.dumps(result, indent=2))"
   ]
  },
  {
   "cell_type": "markdown",
   "metadata": {},
   "source": [
    "## 3.Delete translated documents (if required)\n",
    "Deletes a document."
   ]
  },
  {
   "cell_type": "code",
   "execution_count": null,
   "metadata": {},
   "outputs": [],
   "source": [
    "language_translator.delete_document(document_id='ADD ID') #add document ID\n"
   ]
  },
  {
   "cell_type": "markdown",
   "metadata": {},
   "source": [
    "## 4.Add file for translation\n",
    "\n",
    "Submit a document for translation. You can submit the document contents in the file parameter, or you can reference a previously submitted document by document ID.\n",
    "\n",
    "a) Add local file location <br>\n",
    "b) Add content type (See below)<br>\n",
    "c) Add file name<br>\n",
    "d) Add translation languages to / from  example en-nl<br>\n",
    "\n",
    "***Application Microsoft***\n",
    "<br>\n",
    "application/powerpoint, application/mspowerpoint, application/x-rtf, application/json, application/xml, application/vnd.ms-excel application/vnd.ms-powerpoint\n",
    "<br>\n",
    "\n",
    "***Application Open Office***<br>\n",
    "application/vnd.openxmlformats-officedocument.presentationml.presentation, application/msword, application/vnd.openxmlformats-officedocument.wordprocessingml.document\n",
    "application/vnd.oasis.opendocument.spreadsheet, application/vnd.oasis.opendocument.presentation, application/vnd.oasis.opendocument.text, application/vnd.openxmlformats-officedocument.spreadsheetml.sheet\n",
    "<br>\n",
    "\n",
    "***Application Other formats***<br>\n",
    "application/pdf, application/rtf,\n",
    "text/html, text/json, text/plain, text/richtext, text/rtf, or text/xml\n",
    "<br>\n",
    "\n",
    "***Application Other formats*** <br> \n",
    "application/pdf, application/rtf,text/html, text/json, text/plain, text/richtext, text/rtf, or text/xml.\n",
    "\n"
   ]
  },
  {
   "cell_type": "code",
   "execution_count": null,
   "metadata": {},
   "outputs": [],
   "source": [
    "with open('ADD LOCATION', 'rb') as file: #add file location\n",
    "    result = language_translator.translate_document(\n",
    "        file=file,\n",
    "        file_content_type='application/pdf', # add application type\n",
    "        filename='ADD FILE NAME', #add file name\n",
    "        model_id='en-nl').get_result()  #add language parameters \n",
    "    print(json.dumps(result, indent=2))"
   ]
  },
  {
   "cell_type": "markdown",
   "metadata": {},
   "source": [
    "### 4.1 Get document status\n",
    "Gets the translation status of a document."
   ]
  },
  {
   "cell_type": "code",
   "execution_count": null,
   "metadata": {},
   "outputs": [],
   "source": [
    "result = language_translator.get_document_status(\n",
    "    document_id='ADD ID').get_result()  # Add document ID number\n",
    "print(json.dumps(result, indent=2))\n"
   ]
  },
  {
   "cell_type": "markdown",
   "metadata": {},
   "source": [
    "### 4.3 Get translated document\n",
    "Gets the translated document associated with the given document ID."
   ]
  },
  {
   "cell_type": "code",
   "execution_count": null,
   "metadata": {},
   "outputs": [],
   "source": [
    "with open('ADD NAME', 'wb') as f: #add name for translated document\n",
    "    result = language_translator.get_translated_document(\n",
    "        document_id='ADD DOCUMENT ID', #add document ID\n",
    "        accept='application/pdf').get_result()  # add application type\n",
    "    f.write(result.content)"
   ]
  }
 ],
 "metadata": {
  "kernelspec": {
   "display_name": "Python 3",
   "language": "python",
   "name": "python3"
  },
  "language_info": {
   "codemirror_mode": {
    "name": "ipython",
    "version": 3
   },
   "file_extension": ".py",
   "mimetype": "text/x-python",
   "name": "python",
   "nbconvert_exporter": "python",
   "pygments_lexer": "ipython3",
   "version": "3.7.1"
  }
 },
 "nbformat": 4,
 "nbformat_minor": 2
}
